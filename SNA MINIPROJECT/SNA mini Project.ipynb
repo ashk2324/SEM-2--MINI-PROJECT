{
 "cells": [
  {
   "cell_type": "code",
   "execution_count": null,
   "id": "970b5623",
   "metadata": {},
   "outputs": [],
   "source": []
  },
  {
   "cell_type": "code",
   "execution_count": null,
   "id": "309f9ee0",
   "metadata": {},
   "outputs": [],
   "source": []
  },
  {
   "cell_type": "code",
   "execution_count": null,
   "id": "3309b150",
   "metadata": {},
   "outputs": [],
   "source": []
  },
  {
   "cell_type": "code",
   "execution_count": 5,
   "id": "e400b3f7",
   "metadata": {
    "scrolled": false
   },
   "outputs": [
    {
     "name": "stdout",
     "output_type": "stream",
     "text": [
      "[nltk_data] Downloading package vader_lexicon to\n",
      "[nltk_data]     C:\\Users\\DELL\\AppData\\Roaming\\nltk_data...\n",
      "[nltk_data]   Package vader_lexicon is already up-to-date!\n",
      "[nltk_data] Downloading package twitter_samples to\n",
      "[nltk_data]     C:\\Users\\DELL\\AppData\\Roaming\\nltk_data...\n",
      "[nltk_data]   Package twitter_samples is already up-to-date!\n"
     ]
    }
   ],
   "source": [
    "import nltk\n",
    "nltk.download('vader_lexicon')\n",
    "nltk.download('twitter_samples')\n",
    "from nltk.corpus import stopwords, twitter_samples\n",
    "from nltk.sentiment import SentimentIntensityAnalyzer\n",
    "from statistics import mean\n",
    "from random import shuffle\n",
    "from colorama import Fore"
   ]
  },
  {
   "cell_type": "code",
   "execution_count": 3,
   "id": "4abaed06",
   "metadata": {
    "scrolled": true
   },
   "outputs": [
    {
     "data": {
      "text/plain": [
       "{'neg': 0.0, 'neu': 1.0, 'pos': 0.0, 'compound': 0.0}"
      ]
     },
     "execution_count": 3,
     "metadata": {},
     "output_type": "execute_result"
    }
   ],
   "source": [
    "sia = SentimentIntensityAnalyzer()\n",
    "sia.polarity_scores(\"The most famous Python NLP.\")"
   ]
  },
  {
   "cell_type": "code",
   "execution_count": 4,
   "id": "987e57d5",
   "metadata": {},
   "outputs": [
    {
     "name": "stdout",
     "output_type": "stream",
     "text": [
      "\u001b[31m@Nigel_Farage speaks so much sense its scary. #bbcqt straight honest answers. No shouting no avoiding the questions. Brilliant #UKIP\n",
      "\u001b[32mRT @Tommy_Colc: Financial Times come out in support of Tories claiming Miliband is \"preoccupied w/ inequality\". The man who wrote it http:/…\n",
      "\u001b[32mRT @amiablecynic: I'm a #GreenParty member but I'll vote #Labour because I believe Ed has the best chance of ending #Tory rule #dontvotegre…\n",
      "\u001b[31mRT @britainelects: Latest YouGov poll (29 - 30 Apr):\n",
      "LAB - 35% (+1)\n",
      "CON - 34% (-1)\n",
      "UKIP - 12% (-)\n",
      "LDEM - 8% (-1) \n",
      "GRN - 5% (+1)\n",
      "\u001b[31mRT @AngrySalmond: I thought rejecting the offer to join the #ProgressiveAlliance was Miliband's biggest broadcast blunder but this may well…\n",
      "\u001b[32mRT @LabourUnited: highly praised audience member on #bbcdebate turns out to be a tory activist! so predictable #milifandom Ed toughed it ou…\n",
      "\u001b[31m#Noticias: Cameron y Miliband apelan a los indecisos a una semana de elecciones http://t.co/4k6GTUjBd8 @ElUniversal\n",
      "\u001b[31m@yashatenshi not a fan of dogs but KEENO :(\n",
      "\u001b[31mRT @LordAshcroft: Panelbase poll LAB 34% CON 32% UKIP 17% LDEM 8% GRNS 4%\n",
      "\u001b[32mI wanna cut k but I'm with my friends and they threw me a sleepover party :( so I'm pretending to be ok like usual\n"
     ]
    }
   ],
   "source": [
    "pink = Fore.GREEN\n",
    "red = Fore.RED\n",
    "\n",
    "def ispositive(tweet : str) -> bool:\n",
    "    return sia.polarity_scores(tweet)[\"compound\"] > 0\n",
    "\n",
    "tweets = [tweet for tweet in twitter_samples.strings()]\n",
    "shuffle(tweets)\n",
    "\n",
    "for tweet in tweets[ : 10]:\n",
    "    color = pink\n",
    "    if not ispositive(tweet):\n",
    "        color = red\n",
    "    print(f\"{color}{tweet}\")"
   ]
  },
  {
   "cell_type": "code",
   "execution_count": null,
   "id": "f2620228",
   "metadata": {},
   "outputs": [],
   "source": []
  }
 ],
 "metadata": {
  "kernelspec": {
   "display_name": "Python 3 (ipykernel)",
   "language": "python",
   "name": "python3"
  },
  "language_info": {
   "codemirror_mode": {
    "name": "ipython",
    "version": 3
   },
   "file_extension": ".py",
   "mimetype": "text/x-python",
   "name": "python",
   "nbconvert_exporter": "python",
   "pygments_lexer": "ipython3",
   "version": "3.9.7"
  }
 },
 "nbformat": 4,
 "nbformat_minor": 5
}
